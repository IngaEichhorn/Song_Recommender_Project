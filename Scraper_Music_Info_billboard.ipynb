{
 "cells": [
  {
   "cell_type": "markdown",
   "id": "76eb031a",
   "metadata": {},
   "source": [
    "## Lab - Hot Music Recommender\n",
    "### 1. Music Scraper - Billboard Charts Top100"
   ]
  },
  {
   "cell_type": "code",
   "execution_count": 29,
   "id": "21210bd5",
   "metadata": {},
   "outputs": [],
   "source": [
    "import requests\n",
    "import pandas as pd\n",
    "from bs4 import BeautifulSoup \n",
    "from tqdm import tqdm\n",
    "import time"
   ]
  },
  {
   "cell_type": "markdown",
   "id": "39512c5a",
   "metadata": {},
   "source": [
    "Create a function to scrape the Billboards 100 HOT songs and create a local dataframe of songs and artist"
   ]
  },
  {
   "cell_type": "code",
   "execution_count": 30,
   "id": "3d0f6f78",
   "metadata": {},
   "outputs": [],
   "source": [
    "url = 'https://www.billboard.com/charts/hot-100'"
   ]
  },
  {
   "cell_type": "code",
   "execution_count": 31,
   "id": "f4389fd1",
   "metadata": {},
   "outputs": [],
   "source": [
    "# download html with a get request\n",
    "response = requests.get(url, headers = {\"Accept-Language\": \"en-US, en;q=0.5\"})"
   ]
  },
  {
   "cell_type": "code",
   "execution_count": 32,
   "id": "1237df65",
   "metadata": {},
   "outputs": [
    {
     "data": {
      "text/plain": [
       "200"
      ]
     },
     "execution_count": 32,
     "metadata": {},
     "output_type": "execute_result"
    }
   ],
   "source": [
    "response.status_code"
   ]
  },
  {
   "cell_type": "code",
   "execution_count": 33,
   "id": "f857c450",
   "metadata": {},
   "outputs": [],
   "source": [
    "# parse html (create the 'soup')\n",
    "soup = BeautifulSoup(response.content, \"html.parser\")"
   ]
  },
  {
   "cell_type": "code",
   "execution_count": 34,
   "id": "e34dfb56",
   "metadata": {
    "scrolled": false
   },
   "outputs": [],
   "source": [
    "results=soup.find_all(class_=\"o-chart-results-list-row\")\n"
   ]
  },
  {
   "cell_type": "code",
   "execution_count": 35,
   "id": "7fc725e1",
   "metadata": {},
   "outputs": [
    {
     "data": {
      "text/plain": [
       "100"
      ]
     },
     "execution_count": 35,
     "metadata": {},
     "output_type": "execute_result"
    }
   ],
   "source": [
    "len(results)"
   ]
  },
  {
   "cell_type": "markdown",
   "id": "a4e45b8c",
   "metadata": {},
   "source": [
    "for i in results :\n",
    "    print(i.find_all(class_=\"c-label\")[-7].string)"
   ]
  },
  {
   "cell_type": "code",
   "execution_count": 36,
   "id": "e148ff18",
   "metadata": {},
   "outputs": [
    {
     "name": "stderr",
     "output_type": "stream",
     "text": [
      "100%|██████████| 100/100 [00:00<00:00, 306.29it/s]\n"
     ]
    }
   ],
   "source": [
    "song=[]\n",
    "artist=[]\n",
    "rank=[]\n",
    "\n",
    "for i in tqdm(results):\n",
    "    song.append(i.find_all(class_=\"c-title\")[0].string.strip(\"\\n\"))\n",
    "    artist.append(i.find_all(class_=\"c-label\")[-7].get_text().strip(\"\\n\"))\n",
    "    rank.append(i.find_all(class_=\"c-label\")[0].string.strip(\"\\n\"))\n"
   ]
  },
  {
   "cell_type": "code",
   "execution_count": 37,
   "id": "e641201f",
   "metadata": {},
   "outputs": [
    {
     "data": {
      "text/plain": [
       "100"
      ]
     },
     "execution_count": 37,
     "metadata": {},
     "output_type": "execute_result"
    }
   ],
   "source": [
    "len(song)"
   ]
  },
  {
   "cell_type": "code",
   "execution_count": 38,
   "id": "6641f2a8",
   "metadata": {
    "scrolled": true
   },
   "outputs": [
    {
     "name": "stdout",
     "output_type": "stream",
     "text": [
      "[\"All Too Well (Taylor's Version)\", 'Easy On Me', 'Stay', 'Industry Baby', 'Smokin Out The Window', 'Bad Habits', 'Shivers', 'Heat Waves', 'Need To Know', 'Fancy Like', 'Cold Heart (PNAU Remix)', 'Way 2 Sexy', 'Good 4 U', 'You Right', 'Essence', \"Beggin'\", 'Levitating', \"State Of Grace (Taylor's Version)\", 'One Right Now', 'Already Dead', 'Kiss Me More', \"I Bet You Think About Me (Taylor's Version) (From The Vault)\", 'Leave The Door Open', \"If I Didn't Love You\", \"Red (Taylor's Version)\", 'Save Your Tears', 'Knife Talk', 'Meet Me At Our Spot', 'Better Days', \"Thinking 'Bout You\", 'Girls Want Girls', 'Cold As You', 'Ghost', 'Love Nwantiti (Ah Ah Ah)', 'Chasing After You', 'All I Want For Christmas Is You', 'My Universe', 'Buy Dirt', 'Thats What I Want', 'Happier Than Ever', 'Pepas', 'You Should Probably Leave', \"Nothing New (Taylor's Version) (From The Vault)\", 'Who Want Smoke??', \"Message In A Bottle (Taylor's Version) (From The Vault)\", \"I Knew You Were Trouble (Taylor's Version)\", \"Run (Taylor's Version) (From The Vault)\", 'Montero (Call Me By Your Name)', 'Bad Man (Smooth Criminal)', 'Same Boat', \"Better Man (Taylor's Version) (From The Vault)\", \"22 (Taylor's Version)\", \"Doin' This\", \"Treacherous (Taylor's Version)\", \"We Are Never Ever Getting Back Together (Taylor's Version)\", 'No Love', 'Wild Side', 'Have Mercy', \"I Almost Do (Taylor's Version)\", 'Chosen', \"The Very First Night (Taylor's Version) (From The Vault)\", 'Family Ties', \"Everything Has Changed (Taylor's Version)\", 'Sand In My Boots', 'Gyalis', \"The Last Time (Taylor's Version)\", \"Stay Stay Stay (Taylor's Version)\", 'After Last Night', \"Babe (Taylor's Version) (From The Vault)\", 'Sharing Locations', 'Escape Plan', 'One Mississippi', 'Blast Off', 'Knowing You', 'Skate', \"Holy Ground (Taylor's Version)\", \"Begin Again (Taylor's Version)\", 'Put On A Smile', \"Forever Winter (Taylor's Version) (From The Vault)\", 'Whiskey And Rain', 'Fly As Me', 'Super Gremlin', \"The Moment I Knew (Taylor's Version)\", \"The Lucky One (Taylor's Version)\", \"Sad Beautiful Tragic (Taylor's Version)\", 'Fair Trade', \"Come Back...Be Here (Taylor's Version)\", 'Sad Girlz Luv Money', 'Tequila Little Time', \"Starlight (Taylor's Version)\", 'Bubbly', 'Ex For A Reason', 'Freedom Was A Highway', 'La Fama', 'Big Energy', 'Moth To A Flame', \"'Til You Can't\", 'Woman', 'Take My Breath', 'For Tonight']\n"
     ]
    }
   ],
   "source": [
    "print(song)"
   ]
  },
  {
   "cell_type": "code",
   "execution_count": 39,
   "id": "638c7b4b",
   "metadata": {},
   "outputs": [
    {
     "name": "stdout",
     "output_type": "stream",
     "text": [
      "['Taylor Swift', 'Adele', 'The Kid LAROI & Justin Bieber', 'Lil Nas X & Jack Harlow', 'Silk Sonic (Bruno Mars & Anderson .Paak)', 'Ed Sheeran', 'Ed Sheeran', 'Glass Animals', 'Doja Cat', 'Walker Hayes', 'Elton John & Dua Lipa', 'Drake Featuring Future & Young Thug', 'Olivia Rodrigo', 'Doja Cat & The Weeknd', 'Wizkid Featuring Justin Bieber & Tems', 'Maneskin', 'Dua Lipa', 'Taylor Swift', 'Post Malone & The Weeknd', 'Juice WRLD', 'Doja Cat Featuring SZA', 'Taylor Swift Featuring Chris Stapleton', 'Silk Sonic (Bruno Mars & Anderson .Paak)', 'Jason Aldean & Carrie Underwood', 'Taylor Swift', 'The Weeknd & Ariana Grande', 'Drake Featuring 21 Savage & Project Pat', 'THE ANXIETY: WILLOW & Tyler Cole', 'NEIKED X Mae Muller X Polo G', 'Dustin Lynch Featuring Lauren Alaina Or MacKenzie Porter', 'Drake Featuring Lil Baby', 'Luke Combs', 'Justin Bieber', 'CKay', 'Ryan Hurd With Maren Morris', 'Mariah Carey', 'Coldplay x BTS', 'Jordan Davis Featuring Luke Bryan', 'Lil Nas X', 'Billie Eilish', 'Farruko', 'Chris Stapleton', 'Taylor Swift Featuring Phoebe Bridgers', 'Nardo Wick Featuring G Herbo, Lil Durk & 21 Savage', 'Taylor Swift', 'Taylor Swift', 'Taylor Swift Featuring Ed Sheeran', 'Lil Nas X', 'Polo G', 'Zac Brown Band', 'Taylor Swift', 'Taylor Swift', 'Luke Combs', 'Taylor Swift', 'Taylor Swift', 'Summer Walker & SZA', 'Normani Featuring Cardi B', 'Chloe', 'Taylor Swift', 'Blxst & Tyga Featuring Ty Dolla $ign', 'Taylor Swift', 'Baby Keem & Kendrick Lamar', 'Taylor Swift Featuring Ed Sheeran', 'Morgan Wallen', 'Capella Grey', 'Taylor Swift Featuring Gary Lightbody Of Snow Patrol', 'Taylor Swift', 'Silk Sonic (Bruno Mars & Anderson .Paak) With Thundercat & Bootsy Collins', 'Taylor Swift', 'Meek Mill Featuring Lil Baby & Lil Durk', 'Travis Scott', 'Kane Brown', 'Silk Sonic (Bruno Mars & Anderson .Paak)', 'Kenny Chesney', 'Silk Sonic (Bruno Mars & Anderson .Paak)', 'Taylor Swift', 'Taylor Swift', 'Silk Sonic (Bruno Mars & Anderson .Paak)', 'Taylor Swift', 'Michael Ray', 'Silk Sonic (Bruno Mars & Anderson .Paak)', 'Kodak Black', 'Taylor Swift', 'Taylor Swift', 'Taylor Swift', 'Drake Featuring Travis Scott', 'Taylor Swift', 'Amaarae & Moliy Featuring Kali Uchis', 'Jon Pardi', 'Taylor Swift', 'Young Thug With Drake & Travis Scott', 'Summer Walker & JT', 'Jimmie Allen & Brad Paisley', 'Rosalia Featuring The Weeknd', 'Latto', 'Swedish House Mafia & The Weeknd', 'Cody Johnson', 'Doja Cat', 'The Weeknd', 'Giveon']\n"
     ]
    }
   ],
   "source": [
    "print(artist)"
   ]
  },
  {
   "cell_type": "code",
   "execution_count": 40,
   "id": "9bf8c3a7",
   "metadata": {},
   "outputs": [],
   "source": [
    "top100 = pd.DataFrame({\"rank\":rank,\n",
    "                       \"song\":song,\n",
    "                       \"artist(s)\":artist\n",
    "                      })\n",
    "\n",
    "top100['song'] = top100['song'].str.lower()\n",
    "top100['artist(s)'] = top100['artist(s)'].str.lower()"
   ]
  },
  {
   "cell_type": "code",
   "execution_count": 41,
   "id": "3dd41f52",
   "metadata": {},
   "outputs": [
    {
     "data": {
      "text/html": [
       "<div>\n",
       "<style scoped>\n",
       "    .dataframe tbody tr th:only-of-type {\n",
       "        vertical-align: middle;\n",
       "    }\n",
       "\n",
       "    .dataframe tbody tr th {\n",
       "        vertical-align: top;\n",
       "    }\n",
       "\n",
       "    .dataframe thead th {\n",
       "        text-align: right;\n",
       "    }\n",
       "</style>\n",
       "<table border=\"1\" class=\"dataframe\">\n",
       "  <thead>\n",
       "    <tr style=\"text-align: right;\">\n",
       "      <th></th>\n",
       "      <th>rank</th>\n",
       "      <th>song</th>\n",
       "      <th>artist(s)</th>\n",
       "    </tr>\n",
       "  </thead>\n",
       "  <tbody>\n",
       "    <tr>\n",
       "      <th>0</th>\n",
       "      <td>1</td>\n",
       "      <td>all too well (taylor's version)</td>\n",
       "      <td>taylor swift</td>\n",
       "    </tr>\n",
       "    <tr>\n",
       "      <th>1</th>\n",
       "      <td>2</td>\n",
       "      <td>easy on me</td>\n",
       "      <td>adele</td>\n",
       "    </tr>\n",
       "    <tr>\n",
       "      <th>2</th>\n",
       "      <td>3</td>\n",
       "      <td>stay</td>\n",
       "      <td>the kid laroi &amp; justin bieber</td>\n",
       "    </tr>\n",
       "    <tr>\n",
       "      <th>3</th>\n",
       "      <td>4</td>\n",
       "      <td>industry baby</td>\n",
       "      <td>lil nas x &amp; jack harlow</td>\n",
       "    </tr>\n",
       "    <tr>\n",
       "      <th>4</th>\n",
       "      <td>5</td>\n",
       "      <td>smokin out the window</td>\n",
       "      <td>silk sonic (bruno mars &amp; anderson .paak)</td>\n",
       "    </tr>\n",
       "    <tr>\n",
       "      <th>...</th>\n",
       "      <td>...</td>\n",
       "      <td>...</td>\n",
       "      <td>...</td>\n",
       "    </tr>\n",
       "    <tr>\n",
       "      <th>95</th>\n",
       "      <td>96</td>\n",
       "      <td>moth to a flame</td>\n",
       "      <td>swedish house mafia &amp; the weeknd</td>\n",
       "    </tr>\n",
       "    <tr>\n",
       "      <th>96</th>\n",
       "      <td>97</td>\n",
       "      <td>'til you can't</td>\n",
       "      <td>cody johnson</td>\n",
       "    </tr>\n",
       "    <tr>\n",
       "      <th>97</th>\n",
       "      <td>98</td>\n",
       "      <td>woman</td>\n",
       "      <td>doja cat</td>\n",
       "    </tr>\n",
       "    <tr>\n",
       "      <th>98</th>\n",
       "      <td>99</td>\n",
       "      <td>take my breath</td>\n",
       "      <td>the weeknd</td>\n",
       "    </tr>\n",
       "    <tr>\n",
       "      <th>99</th>\n",
       "      <td>100</td>\n",
       "      <td>for tonight</td>\n",
       "      <td>giveon</td>\n",
       "    </tr>\n",
       "  </tbody>\n",
       "</table>\n",
       "<p>100 rows × 3 columns</p>\n",
       "</div>"
      ],
      "text/plain": [
       "   rank                             song  \\\n",
       "0     1  all too well (taylor's version)   \n",
       "1     2                       easy on me   \n",
       "2     3                             stay   \n",
       "3     4                    industry baby   \n",
       "4     5            smokin out the window   \n",
       "..  ...                              ...   \n",
       "95   96                  moth to a flame   \n",
       "96   97                   'til you can't   \n",
       "97   98                            woman   \n",
       "98   99                   take my breath   \n",
       "99  100                      for tonight   \n",
       "\n",
       "                                   artist(s)  \n",
       "0                               taylor swift  \n",
       "1                                      adele  \n",
       "2              the kid laroi & justin bieber  \n",
       "3                    lil nas x & jack harlow  \n",
       "4   silk sonic (bruno mars & anderson .paak)  \n",
       "..                                       ...  \n",
       "95          swedish house mafia & the weeknd  \n",
       "96                              cody johnson  \n",
       "97                                  doja cat  \n",
       "98                                the weeknd  \n",
       "99                                    giveon  \n",
       "\n",
       "[100 rows x 3 columns]"
      ]
     },
     "execution_count": 41,
     "metadata": {},
     "output_type": "execute_result"
    }
   ],
   "source": [
    "top100"
   ]
  },
  {
   "cell_type": "code",
   "execution_count": 42,
   "id": "3d27721e",
   "metadata": {},
   "outputs": [],
   "source": [
    "top100.to_csv('billboard100.csv')"
   ]
  }
 ],
 "metadata": {
  "kernelspec": {
   "display_name": "Python 3 (ipykernel)",
   "language": "python",
   "name": "python3"
  },
  "language_info": {
   "codemirror_mode": {
    "name": "ipython",
    "version": 3
   },
   "file_extension": ".py",
   "mimetype": "text/x-python",
   "name": "python",
   "nbconvert_exporter": "python",
   "pygments_lexer": "ipython3",
   "version": "3.8.12"
  }
 },
 "nbformat": 4,
 "nbformat_minor": 5
}
