{
 "cells": [
  {
   "cell_type": "markdown",
   "id": "5f0674e7",
   "metadata": {},
   "source": [
    "### Lab Complete Song Recommender"
   ]
  },
  {
   "cell_type": "code",
   "execution_count": 1,
   "id": "48611c9e",
   "metadata": {},
   "outputs": [],
   "source": [
    "import config\n",
    "import spotipy\n",
    "import json\n",
    "from spotipy.oauth2 import SpotifyClientCredentials\n",
    "import pandas as pd\n",
    "import pickle\n",
    "from IPython.display import IFrame\n",
    "\n",
    "#Initialize SpotiPy with user credentias\n",
    "sp = spotipy.Spotify(auth_manager=SpotifyClientCredentials(client_id= config.client_id,\n",
    "                                                           client_secret= config.client_se))"
   ]
  },
  {
   "cell_type": "code",
   "execution_count": 2,
   "id": "940e61a1",
   "metadata": {},
   "outputs": [],
   "source": [
    "import warnings\n",
    "warnings.filterwarnings('ignore')"
   ]
  },
  {
   "cell_type": "markdown",
   "id": "195fb253",
   "metadata": {},
   "source": [
    "#### Import pickled scaler and kmeans"
   ]
  },
  {
   "cell_type": "code",
   "execution_count": 3,
   "id": "c09ccd58",
   "metadata": {},
   "outputs": [],
   "source": [
    "def load(filename = \"filename.pickle\"): \n",
    "    try: \n",
    "        with open(filename, \"rb\") as f: \n",
    "            return pickle.load(f) \n",
    "    except FileNotFoundError: \n",
    "        print(\"File not found!\")\n",
    "        \n",
    "with open(\"scaler.pickle\", \"rb\") as f:\n",
    "    scaler=pickle.load(f)\n",
    "\n",
    "with open(\"kmeans.pickle\", \"rb\") as f:\n",
    "    model=pickle.load(f)"
   ]
  },
  {
   "cell_type": "markdown",
   "id": "7768020c",
   "metadata": {},
   "source": [
    "#### Import clustered music dataset"
   ]
  },
  {
   "cell_type": "code",
   "execution_count": 4,
   "id": "61bf7590",
   "metadata": {},
   "outputs": [
    {
     "data": {
      "text/plain": [
       "array([3, 2, 7, 6, 5, 1, 0, 4], dtype=int64)"
      ]
     },
     "execution_count": 4,
     "metadata": {},
     "output_type": "execute_result"
    }
   ],
   "source": [
    "music_df2= pd.read_csv('Data/clustered_music_features.csv')\n",
    "#music_df2.dtypes\n",
    "music_df2.cluster.unique()\n",
    "\n",
    "\n",
    "#top100 = pd.read_csv('billboard100.csv')"
   ]
  },
  {
   "cell_type": "markdown",
   "id": "27b2133b",
   "metadata": {},
   "source": [
    "#### Recommender using user input"
   ]
  },
  {
   "cell_type": "code",
   "execution_count": 12,
   "id": "e9ab2d61",
   "metadata": {
    "scrolled": true
   },
   "outputs": [
    {
     "name": "stdout",
     "output_type": "stream",
     "text": [
      "Which song do you like?  didnt love\n",
      "Did you mean If I Didn't Love You by Jason Aldean?  y\n",
      "You might also like \u001b[1mThis Is Hardcore - Original Version\u001b[0m by Pulp\n",
      "You can listen to this song recommendation here: \n",
      "\n"
     ]
    },
    {
     "data": {
      "text/html": [
       "\n",
       "        <iframe\n",
       "            width=\"320\"\n",
       "            height=\"80\"\n",
       "            src=\"https://open.spotify.com/embed/track/3Yj8CiMjYKKNn4yvUIf1QU?frameborder=0&allowtransparency=true&allow=encrypted-media\"\n",
       "            frameborder=\"0\"\n",
       "            allowfullscreen\n",
       "            \n",
       "        ></iframe>\n",
       "        "
      ],
      "text/plain": [
       "<IPython.lib.display.IFrame at 0x20ebd803670>"
      ]
     },
     "metadata": {},
     "output_type": "display_data"
    },
    {
     "name": "stdout",
     "output_type": "stream",
     "text": [
      "Would you like another recommendation? y\n",
      "You might also like \u001b[1mWhat's My Age Again?\u001b[0m by blink-182\n"
     ]
    },
    {
     "data": {
      "text/html": [
       "\n",
       "        <iframe\n",
       "            width=\"320\"\n",
       "            height=\"80\"\n",
       "            src=\"https://open.spotify.com/embed/track/5JZcX7TTLx4l0xFIXJ3DBt?frameborder=0&allowtransparency=true&allow=encrypted-media\"\n",
       "            frameborder=\"0\"\n",
       "            allowfullscreen\n",
       "            \n",
       "        ></iframe>\n",
       "        "
      ],
      "text/plain": [
       "<IPython.lib.display.IFrame at 0x20ebd803670>"
      ]
     },
     "metadata": {},
     "output_type": "display_data"
    }
   ],
   "source": [
    "usersong_input = (input(\"Which song do you like?  \").replace(\" \",\"\").lower() or input('Which song do you like?  '))\n",
    "\n",
    "usersong = sp.search(q=usersong_input, limit=5 ,market=\"GB\")\n",
    "\n",
    "\n",
    "#song_row = top100[top100[\"song\"].str.contains(usersong_input)]\n",
    "#if len(song_row) == 0:\n",
    "    #print(\"The song you pick is not hot.\")\n",
    "#else:\n",
    "check_song = input(\"Did you mean \" + usersong[\"tracks\"][\"items\"][0]['name'] + \" by \" + usersong[\"tracks\"]['items'][0]['artists'][0]['name'] + '?  ')\n",
    "\n",
    "if check_song in ('yes', 'y', 'Y', 'YES'):\n",
    "    usersong_all=sp.audio_features(usersong[\"tracks\"][\"items\"][0][\"uri\"])[0]\n",
    "    usersong_all=pd.DataFrame([usersong_all])\n",
    "    usersong_features=usersong_all.drop(columns=['id','uri','track_href', 'analysis_url', 'type', 'speechiness'])\n",
    "    usersong_features_scaled=scaler.transform(usersong_features)\n",
    "\n",
    "    cluster_no= int(model.predict(usersong_features_scaled))\n",
    "    #print('cluster number: ',  cluster_no)\n",
    "    recommendation_df =  music_df2[music_df2['cluster']==cluster_no]\n",
    "    recommended_song = recommendation_df.sample(1)\n",
    "            \n",
    "        \n",
    "    print(('You might also like ')\n",
    "            + ('\\033[1m')\n",
    "            + (recommended_song['title'].values[0])\n",
    "            + ('\\033[0m') + (' by ')\n",
    "            + (recommended_song['all_artists'].values[0]))\n",
    "    \n",
    "    track_id_recommended = recommended_song['id'].values[0]\n",
    "    print('You can listen to this song recommendation here: \\n')\n",
    "\n",
    "    track_id = track_id_recommended\n",
    "    display(IFrame(src=f\"https://open.spotify.com/embed/track/{track_id}\",\n",
    "       width=\"320\",\n",
    "       height=\"80\",\n",
    "       frameborder=\"0\",\n",
    "       allowtransparency=\"true\",\n",
    "       allow=\"encrypted-media\",\n",
    "      ))\n",
    "     \n",
    "    second_round = (input('Would you like another recommendation? ').replace(\" \",\"\").lower() or input('Would you like another recommendation?  '))\n",
    "    if second_round in ('yes', 'y', 'Y', 'YES'):\n",
    "        recommendation_df =  music_df2[music_df2['cluster']==cluster_no]\n",
    "        recommended_song2 = recommendation_df.sample(1)\n",
    "        print(('You might also like ')\n",
    "            + ('\\033[1m')\n",
    "            + (recommended_song2['title'].values[0])\n",
    "            + ('\\033[0m') + (' by ')\n",
    "            + (recommended_song2['all_artists'].values[0]))\n",
    "        track_id_recommended2 = recommended_song2['id'].values[0]\n",
    "        track_id = track_id_recommended2\n",
    "        display(IFrame(src=f\"https://open.spotify.com/embed/track/{track_id}\",\n",
    "           width=\"320\",\n",
    "           height=\"80\",\n",
    "           frameborder=\"0\",\n",
    "           allowtransparency=\"true\",\n",
    "           allow=\"encrypted-media\",\n",
    "          ))\n",
    "    \n",
    "else:\n",
    "    \n",
    "     print(\"I don't know that song.\")"
   ]
  },
  {
   "cell_type": "code",
   "execution_count": null,
   "id": "252c75d1",
   "metadata": {},
   "outputs": [],
   "source": []
  }
 ],
 "metadata": {
  "kernelspec": {
   "display_name": "Python 3 (ipykernel)",
   "language": "python",
   "name": "python3"
  },
  "language_info": {
   "codemirror_mode": {
    "name": "ipython",
    "version": 3
   },
   "file_extension": ".py",
   "mimetype": "text/x-python",
   "name": "python",
   "nbconvert_exporter": "python",
   "pygments_lexer": "ipython3",
   "version": "3.8.12"
  }
 },
 "nbformat": 4,
 "nbformat_minor": 5
}
