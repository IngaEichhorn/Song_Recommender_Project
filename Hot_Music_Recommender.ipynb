{
 "cells": [
  {
   "cell_type": "markdown",
   "id": "3704a297",
   "metadata": {},
   "source": [
    "## Lab - Hot Music Recommender\n",
    "### 2. Hot Music Recommender"
   ]
  },
  {
   "cell_type": "code",
   "execution_count": 16,
   "id": "4baf8b38",
   "metadata": {},
   "outputs": [],
   "source": [
    "def recommender():\n",
    "    import pandas as pd\n",
    "    from random import randint\n",
    "    fileinput = (input(\"Which csv-table contains the billboard charts? (e.g. billboard100.csv)\")).replace(\" \",\"\")\n",
    "    if not \".csv\" in fileinput:\n",
    "          fileinput += \".csv\"\n",
    "    top100 = pd.read_csv(fileinput)\n",
    "            \n",
    "    song = input('Which song do you like?').lower() or input('Which song do you like?')\n",
    "    \n",
    "    song_row = top100[top100[\"song\"].str.contains(song)]\n",
    "    if len(song_row) == 0:\n",
    "        print(\"The song you pick is not hot.\")\n",
    "    else:\n",
    "        check_song = input(\"Did you mean \" + song_row[\"song\"].values[0] + \" by \" +song_row['artist(s)'].values[0] + '?')\n",
    "        \n",
    "        if check_song == 'yes' or 'y':\n",
    "            print('The song you picked is hot.')\n",
    "            recommended_song = randint(0, len(top100)-1)\n",
    "            print('You might also like ' + \"\\033[1m\"+top100['song'][recommended_song]+\"\\033[0m\" + ' by ' + top100['artist(s)'][recommended_song])\n",
    "        else:\n",
    "            print(\"I don't know that song.\")"
   ]
  },
  {
   "cell_type": "code",
   "execution_count": 20,
   "id": "9ceaf398",
   "metadata": {},
   "outputs": [
    {
     "name": "stdout",
     "output_type": "stream",
     "text": [
      "Which csv-table contains the billboard charts? (e.g. billboard100.csv)billboard100\n",
      "Which song do you like?song2\n",
      "The song you pick is not hot.\n"
     ]
    }
   ],
   "source": [
    "recommender()"
   ]
  },
  {
   "cell_type": "code",
   "execution_count": null,
   "id": "ff026d87",
   "metadata": {},
   "outputs": [],
   "source": []
  }
 ],
 "metadata": {
  "kernelspec": {
   "display_name": "Python 3 (ipykernel)",
   "language": "python",
   "name": "python3"
  },
  "language_info": {
   "codemirror_mode": {
    "name": "ipython",
    "version": 3
   },
   "file_extension": ".py",
   "mimetype": "text/x-python",
   "name": "python",
   "nbconvert_exporter": "python",
   "pygments_lexer": "ipython3",
   "version": "3.8.12"
  }
 },
 "nbformat": 4,
 "nbformat_minor": 5
}
