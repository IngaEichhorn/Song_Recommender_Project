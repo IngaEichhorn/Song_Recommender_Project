{
 "cells": [
  {
   "cell_type": "markdown",
   "id": "9c7eb390",
   "metadata": {},
   "source": [
    "### Lab Complete Song Recommender"
   ]
  },
  {
   "cell_type": "code",
   "execution_count": 1,
   "id": "48611c9e",
   "metadata": {},
   "outputs": [],
   "source": [
    "import config\n",
    "import spotipy\n",
    "import json\n",
    "from spotipy.oauth2 import SpotifyClientCredentials\n",
    "import pandas as pd\n",
    "import pickle\n",
    "from IPython.display import IFrame\n",
    "\n",
    "#Initialize SpotiPy with user credentias\n",
    "sp = spotipy.Spotify(auth_manager=SpotifyClientCredentials(client_id= config.client_id,\n",
    "                                                           client_secret= config.client_se))"
   ]
  },
  {
   "cell_type": "code",
   "execution_count": 2,
   "id": "940e61a1",
   "metadata": {},
   "outputs": [],
   "source": [
    "import warnings\n",
    "warnings.filterwarnings('ignore')"
   ]
  },
  {
   "cell_type": "code",
   "execution_count": 3,
   "id": "9ab5a178",
   "metadata": {},
   "outputs": [],
   "source": [
    "def load(filename = \"filename.pickle\"): \n",
    "    try: \n",
    "        with open(filename, \"rb\") as f: \n",
    "            return pickle.load(f) \n",
    "    except FileNotFoundError: \n",
    "        print(\"File not found!\")\n",
    "        \n",
    "with open(\"scaler.pickle\", \"rb\") as f:\n",
    "    scaler=pickle.load(f)\n",
    "\n",
    "with open(\"kmeans.pickle\", \"rb\") as f:\n",
    "    model=pickle.load(f)"
   ]
  },
  {
   "cell_type": "code",
   "execution_count": 4,
   "id": "61bf7590",
   "metadata": {},
   "outputs": [
    {
     "data": {
      "text/plain": [
       "array([3, 2, 7, 6, 5, 1, 0, 4], dtype=int64)"
      ]
     },
     "execution_count": 4,
     "metadata": {},
     "output_type": "execute_result"
    }
   ],
   "source": [
    "music_df2= pd.read_csv('Data/clustered_music_features.csv')\n",
    "#music_df2.dtypes\n",
    "music_df2.cluster.unique()\n",
    "\n",
    "\n",
    "#top100 = pd.read_csv('billboard100.csv')"
   ]
  },
  {
   "cell_type": "code",
   "execution_count": 5,
   "id": "e9ab2d61",
   "metadata": {
    "scrolled": true
   },
   "outputs": [
    {
     "name": "stdout",
     "output_type": "stream",
     "text": [
      "Which song do you like?  paint it\n",
      "Did you mean Paint It, Black by The Rolling Stones?  y\n",
      "cluster number:  7\n",
      "You might also like \u001b[1mA Song For The Lovers\u001b[0m by Richard Ashcroft\n"
     ]
    }
   ],
   "source": [
    "usersong_input = (input(\"Which song do you like?  \").replace(\" \",\"\").lower() or input('Which song do you like?  '))\n",
    "\n",
    "usersong = sp.search(q=usersong_input, limit=1 ,market=\"GB\")\n",
    "\n",
    "\n",
    "#song_row = top100[top100[\"song\"].str.contains(usersong_input)]\n",
    "#if len(song_row) == 0:\n",
    "    #print(\"The song you pick is not hot.\")\n",
    "#else:\n",
    "check_song = input(\"Did you mean \" + usersong[\"tracks\"][\"items\"][0]['name'] + \" by \" + usersong[\"tracks\"]['items'][0]['artists'][0]['name'] + '?  ')\n",
    "\n",
    "if check_song in ('yes', 'y', 'Y', 'YES'):\n",
    "    usersong_all=sp.audio_features(usersong[\"tracks\"][\"items\"][0][\"uri\"])[0]\n",
    "    usersong_all=pd.DataFrame([usersong_all])\n",
    "    usersong_features=usersong_all.drop(columns=['id','uri','track_href', 'analysis_url', 'type', 'speechiness'])\n",
    "    usersong_features_scaled=scaler.transform(usersong_features)\n",
    "\n",
    "    cluster_no= int(model.predict(usersong_features_scaled))\n",
    "    print('cluster number: ',  cluster_no)\n",
    "    recommendation_df =  music_df2[music_df2['cluster']==cluster_no]\n",
    "    recommended_song = recommendation_df.sample(1)\n",
    "            \n",
    "        \n",
    "    print(('You might also like ')\n",
    "            + ('\\033[1m')\n",
    "            + (recommended_song['title'].values[0])\n",
    "            + ('\\033[0m') + (' by ')\n",
    "            + (recommended_song['all_artists'].values[0]))\n",
    "    \n",
    "    track_id_recommended = recommended_song['id'].values[0]\n",
    "       \n",
    "else:\n",
    "    \n",
    "     print(\"I don't know that song.\")"
   ]
  },
  {
   "cell_type": "code",
   "execution_count": 6,
   "id": "e05912f3",
   "metadata": {},
   "outputs": [
    {
     "name": "stdout",
     "output_type": "stream",
     "text": [
      "You can listen to this song recommendation here: \n",
      "\n"
     ]
    },
    {
     "data": {
      "text/html": [
       "\n",
       "        <iframe\n",
       "            width=\"320\"\n",
       "            height=\"80\"\n",
       "            src=\"https://open.spotify.com/embed/track/7a90gal9tr3yS8bEXUvu8D?frameborder=0&allowtransparency=true&allow=encrypted-media\"\n",
       "            frameborder=\"0\"\n",
       "            allowfullscreen\n",
       "            \n",
       "        ></iframe>\n",
       "        "
      ],
      "text/plain": [
       "<IPython.lib.display.IFrame at 0x245d0eb5b80>"
      ]
     },
     "execution_count": 6,
     "metadata": {},
     "output_type": "execute_result"
    }
   ],
   "source": [
    "print('You can listen to this song recommendation here: \\n')\n",
    "\n",
    "from IPython.display import IFrame\n",
    "track_id = track_id_recommended\n",
    "IFrame(src=f\"https://open.spotify.com/embed/track/{track_id}\",\n",
    "       width=\"320\",\n",
    "       height=\"80\",\n",
    "       frameborder=\"0\",\n",
    "       allowtransparency=\"true\",\n",
    "       allow=\"encrypted-media\",\n",
    "      )"
   ]
  }
 ],
 "metadata": {
  "kernelspec": {
   "display_name": "Python 3 (ipykernel)",
   "language": "python",
   "name": "python3"
  },
  "language_info": {
   "codemirror_mode": {
    "name": "ipython",
    "version": 3
   },
   "file_extension": ".py",
   "mimetype": "text/x-python",
   "name": "python",
   "nbconvert_exporter": "python",
   "pygments_lexer": "ipython3",
   "version": "3.8.12"
  }
 },
 "nbformat": 4,
 "nbformat_minor": 5
}
